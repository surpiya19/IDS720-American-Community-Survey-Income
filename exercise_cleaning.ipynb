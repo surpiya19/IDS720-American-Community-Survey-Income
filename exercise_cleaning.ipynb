{
    "cells": [
        {
            "cell_type": "markdown",
            "metadata": {},
            "source": [
                "# Cleaning Data Exercises\n",
                "\n",
                "In this exercise, we'll be returning to the American Community Survey data we used previously to measuring racial income inequality in the United States. In today's exercise, we'll be using it to measure the returns to education and how those returns vary by race and gender.\n",
                "\n"
            ]
        },
        {
            "cell_type": "markdown",
            "metadata": {},
            "source": [
                "\n",
                "## Gradescope Autograding\n",
                "\n",
                "Please follow [all standard guidance](https://www.practicaldatascience.org/html/autograder_guidelines.html) for submitting this assignment to the Gradescope autograder, including storing your solutions in a dictionary called `results` and ensuring your notebook runs from the start to completion without any errors.\n",
                "\n",
                "For this assignment, please name your file `exercise_cleaning.ipynb` before uploading.\n",
                "\n",
                "You can check that you have answers for all questions in your `results` dictionary with this code:\n",
                "\n",
                "```python\n",
                "assert set(results.keys()) == {\n",
                "    \"ex5_age_young\",\n",
                "    \"ex5_age_old\",\n",
                "    \"ex7_avg_age\",\n",
                "    \"ex8_avg_age\",\n",
                "    \"ex9_num_college\",\n",
                "    \"ex11_share_male_w_degrees\",\n",
                "    \"ex11_share_female_w_degrees\",\n",
                "    \"ex12_comparing\",\n",
                "}\n",
                "```\n",
                "\n",
                "\n",
                "### Submission Limits\n",
                "\n",
                "Please remember that you are **only allowed three submissions to the autograder.** Your last submission (if you submit 3 or fewer times), or your third submission (if you submit more than 3 times) will determine your grade Submissions that error out will **not** count against this total."
            ]
        },
        {
            "cell_type": "markdown",
            "metadata": {},
            "source": [
                "## Exercises\n",
                "\n",
                "### Exercise 1\n",
                "\n",
                "For these cleaning exercises, we'll return to the ACS data we've used before one last time. We'll be working with `US_ACS_2017_10pct_sample.dta`. Import the data (please use url for the autograder)."
            ]
        },
        {
            "cell_type": "code",
            "execution_count": 1,
            "metadata": {},
            "outputs": [],
            "source": [
                "import pandas as pd\n",
                "import numpy as np\n",
                "\n",
                "pd.set_option(\"mode.copy_on_write\", True)\n",
                "\n",
                "acs = pd.read_stata(\n",
                "    \"https://github.com/nickeubank/MIDS_Data/raw/refs/heads/master/US_AmericanCommunitySurvey/US_ACS_2017_10pct_sample.dta\"\n",
                ")"
            ]
        },
        {
            "cell_type": "markdown",
            "metadata": {},
            "source": [
                "### Exercise 2\n",
                "\n",
                "For our exercises today, we'll focus on `age`, `sex`, `educ` (education), and `inctot` (total income). Subset your data to those variables, and quickly look at a sample of 10 rows."
            ]
        },
        {
            "cell_type": "code",
            "execution_count": 2,
            "metadata": {},
            "outputs": [
                {
                    "data": {
                        "application/vnd.microsoft.datawrangler.viewer.v0+json": {
                            "columns": [
                                {
                                    "name": "index",
                                    "rawType": "int64",
                                    "type": "integer"
                                },
                                {
                                    "name": "age",
                                    "rawType": "category",
                                    "type": "unknown"
                                },
                                {
                                    "name": "sex",
                                    "rawType": "category",
                                    "type": "unknown"
                                },
                                {
                                    "name": "educ",
                                    "rawType": "category",
                                    "type": "unknown"
                                },
                                {
                                    "name": "inctot",
                                    "rawType": "int32",
                                    "type": "integer"
                                }
                            ],
                            "ref": "9481cd25-3082-48ac-910f-08a0318f58ce",
                            "rows": [
                                [
                                    "126881",
                                    "33",
                                    "female",
                                    "1 year of college",
                                    "1000"
                                ],
                                [
                                    "185852",
                                    "59",
                                    "female",
                                    "grade 12",
                                    "17000"
                                ],
                                [
                                    "298266",
                                    "36",
                                    "male",
                                    "grade 12",
                                    "61000"
                                ],
                                [
                                    "44188",
                                    "41",
                                    "female",
                                    "2 years of college",
                                    "-5600"
                                ],
                                [
                                    "230359",
                                    "3",
                                    "female",
                                    "n/a or no schooling",
                                    "9999999"
                                ],
                                [
                                    "40625",
                                    "6",
                                    "male",
                                    "nursery school to grade 4",
                                    "9999999"
                                ],
                                [
                                    "200912",
                                    "70",
                                    "male",
                                    "grade 12",
                                    "38000"
                                ],
                                [
                                    "42333",
                                    "90 (90+ in 1980 and 1990)",
                                    "female",
                                    "grade 11",
                                    "11000"
                                ],
                                [
                                    "148207",
                                    "39",
                                    "male",
                                    "4 years of college",
                                    "230500"
                                ],
                                [
                                    "50710",
                                    "43",
                                    "female",
                                    "grade 12",
                                    "3000"
                                ]
                            ],
                            "shape": {
                                "columns": 4,
                                "rows": 10
                            }
                        },
                        "text/html": [
                            "<div>\n",
                            "<style scoped>\n",
                            "    .dataframe tbody tr th:only-of-type {\n",
                            "        vertical-align: middle;\n",
                            "    }\n",
                            "\n",
                            "    .dataframe tbody tr th {\n",
                            "        vertical-align: top;\n",
                            "    }\n",
                            "\n",
                            "    .dataframe thead th {\n",
                            "        text-align: right;\n",
                            "    }\n",
                            "</style>\n",
                            "<table border=\"1\" class=\"dataframe\">\n",
                            "  <thead>\n",
                            "    <tr style=\"text-align: right;\">\n",
                            "      <th></th>\n",
                            "      <th>age</th>\n",
                            "      <th>sex</th>\n",
                            "      <th>educ</th>\n",
                            "      <th>inctot</th>\n",
                            "    </tr>\n",
                            "  </thead>\n",
                            "  <tbody>\n",
                            "    <tr>\n",
                            "      <th>126881</th>\n",
                            "      <td>33</td>\n",
                            "      <td>female</td>\n",
                            "      <td>1 year of college</td>\n",
                            "      <td>1000</td>\n",
                            "    </tr>\n",
                            "    <tr>\n",
                            "      <th>185852</th>\n",
                            "      <td>59</td>\n",
                            "      <td>female</td>\n",
                            "      <td>grade 12</td>\n",
                            "      <td>17000</td>\n",
                            "    </tr>\n",
                            "    <tr>\n",
                            "      <th>298266</th>\n",
                            "      <td>36</td>\n",
                            "      <td>male</td>\n",
                            "      <td>grade 12</td>\n",
                            "      <td>61000</td>\n",
                            "    </tr>\n",
                            "    <tr>\n",
                            "      <th>44188</th>\n",
                            "      <td>41</td>\n",
                            "      <td>female</td>\n",
                            "      <td>2 years of college</td>\n",
                            "      <td>-5600</td>\n",
                            "    </tr>\n",
                            "    <tr>\n",
                            "      <th>230359</th>\n",
                            "      <td>3</td>\n",
                            "      <td>female</td>\n",
                            "      <td>n/a or no schooling</td>\n",
                            "      <td>9999999</td>\n",
                            "    </tr>\n",
                            "    <tr>\n",
                            "      <th>40625</th>\n",
                            "      <td>6</td>\n",
                            "      <td>male</td>\n",
                            "      <td>nursery school to grade 4</td>\n",
                            "      <td>9999999</td>\n",
                            "    </tr>\n",
                            "    <tr>\n",
                            "      <th>200912</th>\n",
                            "      <td>70</td>\n",
                            "      <td>male</td>\n",
                            "      <td>grade 12</td>\n",
                            "      <td>38000</td>\n",
                            "    </tr>\n",
                            "    <tr>\n",
                            "      <th>42333</th>\n",
                            "      <td>90 (90+ in 1980 and 1990)</td>\n",
                            "      <td>female</td>\n",
                            "      <td>grade 11</td>\n",
                            "      <td>11000</td>\n",
                            "    </tr>\n",
                            "    <tr>\n",
                            "      <th>148207</th>\n",
                            "      <td>39</td>\n",
                            "      <td>male</td>\n",
                            "      <td>4 years of college</td>\n",
                            "      <td>230500</td>\n",
                            "    </tr>\n",
                            "    <tr>\n",
                            "      <th>50710</th>\n",
                            "      <td>43</td>\n",
                            "      <td>female</td>\n",
                            "      <td>grade 12</td>\n",
                            "      <td>3000</td>\n",
                            "    </tr>\n",
                            "  </tbody>\n",
                            "</table>\n",
                            "</div>"
                        ],
                        "text/plain": [
                            "                              age     sex                       educ   inctot\n",
                            "126881                         33  female          1 year of college     1000\n",
                            "185852                         59  female                   grade 12    17000\n",
                            "298266                         36    male                   grade 12    61000\n",
                            "44188                          41  female         2 years of college    -5600\n",
                            "230359                          3  female        n/a or no schooling  9999999\n",
                            "40625                           6    male  nursery school to grade 4  9999999\n",
                            "200912                         70    male                   grade 12    38000\n",
                            "42333   90 (90+ in 1980 and 1990)  female                   grade 11    11000\n",
                            "148207                         39    male         4 years of college   230500\n",
                            "50710                          43  female                   grade 12     3000"
                        ]
                    },
                    "execution_count": 2,
                    "metadata": {},
                    "output_type": "execute_result"
                }
            ],
            "source": [
                "acs_data = acs[[\"age\", \"sex\", \"educ\", \"inctot\"]]\n",
                "acs_data.sample(10)"
            ]
        },
        {
            "cell_type": "markdown",
            "metadata": {},
            "source": [
                "### Exercise 3\n",
                "\n",
                "As before, all the values of `9999999` have the potential to cause us real problems, so replace all the values of `inctot` that are `9999999` with `np.nan`. "
            ]
        },
        {
            "cell_type": "code",
            "execution_count": 3,
            "metadata": {},
            "outputs": [],
            "source": [
                "acs_data[\"inctot\"] = acs_data[\"inctot\"].replace(to_replace=9999999, value=np.nan)"
            ]
        },
        {
            "cell_type": "markdown",
            "metadata": {},
            "source": [
                "### Exercise 4\n",
                "\n",
                "Attempt to calculate the average age of people in our data. What do you get? Why are you getting that error?\n",
                "\n",
                "You *should* get an error in trying to answer this question, but **PLEASE LEAVE THE CODE THAT GENERATES THIS ERROR COMMENTED OUT SO YOUR NOTEBOOK WILL RUN IN THE AUTOGRADER**. \n",
                "\n",
                "Then talk about the error in a markdown cell."
            ]
        },
        {
            "cell_type": "code",
            "execution_count": 4,
            "metadata": {},
            "outputs": [],
            "source": [
                "# acs_data[\"age\"].mean()"
            ]
        },
        {
            "cell_type": "markdown",
            "metadata": {},
            "source": [
                "**TypeError: 'Categorical' with dtype category does not support reduction 'mean'**"
            ]
        },
        {
            "cell_type": "markdown",
            "metadata": {},
            "source": [
                "### Exercise 5\n",
                "\n",
                "We want to be able to calculate things using age, so we need it to be a numeric type. Check the current type of `age`, and look at all the values of `age` to figure out why it's categorical and not numeric. You should find two problematic categories. Store the values of these categories in `\"ex5_age_young\"` and `\"ex5_age_old\"` (once you find them, it should be clear which is which)."
            ]
        },
        {
            "cell_type": "code",
            "execution_count": 5,
            "metadata": {},
            "outputs": [
                {
                    "data": {
                        "application/vnd.microsoft.datawrangler.viewer.v0+json": {
                            "columns": [
                                {
                                    "name": "age",
                                    "rawType": "category",
                                    "type": "unknown"
                                },
                                {
                                    "name": "count",
                                    "rawType": "int64",
                                    "type": "integer"
                                }
                            ],
                            "ref": "c54ed9cc-e8a7-4283-adff-fe38c0302ef9",
                            "rows": [
                                [
                                    "60",
                                    "4950"
                                ],
                                [
                                    "54",
                                    "4821"
                                ],
                                [
                                    "59",
                                    "4776"
                                ],
                                [
                                    "56",
                                    "4776"
                                ],
                                [
                                    "58",
                                    "4734"
                                ],
                                [
                                    "57",
                                    "4720"
                                ],
                                [
                                    "55",
                                    "4693"
                                ],
                                [
                                    "61",
                                    "4644"
                                ],
                                [
                                    "62",
                                    "4614"
                                ],
                                [
                                    "53",
                                    "4600"
                                ],
                                [
                                    "18",
                                    "4496"
                                ],
                                [
                                    "63",
                                    "4488"
                                ],
                                [
                                    "52",
                                    "4418"
                                ],
                                [
                                    "65",
                                    "4362"
                                ],
                                [
                                    "19",
                                    "4342"
                                ],
                                [
                                    "64",
                                    "4287"
                                ],
                                [
                                    "50",
                                    "4272"
                                ],
                                [
                                    "47",
                                    "4256"
                                ],
                                [
                                    "16",
                                    "4106"
                                ],
                                [
                                    "66",
                                    "4106"
                                ],
                                [
                                    "46",
                                    "4064"
                                ],
                                [
                                    "67",
                                    "4055"
                                ],
                                [
                                    "51",
                                    "4021"
                                ],
                                [
                                    "17",
                                    "4021"
                                ],
                                [
                                    "10",
                                    "3997"
                                ],
                                [
                                    "20",
                                    "3992"
                                ],
                                [
                                    "9",
                                    "3977"
                                ],
                                [
                                    "48",
                                    "3956"
                                ],
                                [
                                    "70",
                                    "3953"
                                ],
                                [
                                    "68",
                                    "3951"
                                ],
                                [
                                    "34",
                                    "3942"
                                ],
                                [
                                    "15",
                                    "3942"
                                ],
                                [
                                    "49",
                                    "3940"
                                ],
                                [
                                    "45",
                                    "3939"
                                ],
                                [
                                    "30",
                                    "3917"
                                ],
                                [
                                    "27",
                                    "3884"
                                ],
                                [
                                    "40",
                                    "3884"
                                ],
                                [
                                    "32",
                                    "3883"
                                ],
                                [
                                    "31",
                                    "3880"
                                ],
                                [
                                    "69",
                                    "3877"
                                ],
                                [
                                    "37",
                                    "3870"
                                ],
                                [
                                    "35",
                                    "3867"
                                ],
                                [
                                    "14",
                                    "3847"
                                ],
                                [
                                    "12",
                                    "3845"
                                ],
                                [
                                    "36",
                                    "3834"
                                ],
                                [
                                    "29",
                                    "3810"
                                ],
                                [
                                    "28",
                                    "3808"
                                ],
                                [
                                    "13",
                                    "3800"
                                ],
                                [
                                    "11",
                                    "3791"
                                ],
                                [
                                    "39",
                                    "3783"
                                ]
                            ],
                            "shape": {
                                "columns": 1,
                                "rows": 97
                            }
                        },
                        "text/plain": [
                            "age\n",
                            "60    4950\n",
                            "54    4821\n",
                            "59    4776\n",
                            "56    4776\n",
                            "58    4734\n",
                            "      ... \n",
                            "93     476\n",
                            "95     471\n",
                            "92     355\n",
                            "91     227\n",
                            "96      10\n",
                            "Name: count, Length: 97, dtype: int64"
                        ]
                    },
                    "execution_count": 5,
                    "metadata": {},
                    "output_type": "execute_result"
                }
            ],
            "source": [
                "acs_data[\"age\"].value_counts()"
            ]
        },
        {
            "cell_type": "code",
            "execution_count": 6,
            "metadata": {},
            "outputs": [
                {
                    "name": "stdout",
                    "output_type": "stream",
                    "text": [
                        "The first problematic category in the dataset is 'less than 1 year old'; the second is '90 (90+ in 1980 and 1990).'\n"
                    ]
                }
            ],
            "source": [
                "results = {}\n",
                "\n",
                "results[\"ex5_age_young\"] = \"less than 1 year old\"\n",
                "results[\"ex5_age_old\"] = \"90 (90+ in 1980 and 1990)\"\n",
                "\n",
                "print(\n",
                "    f\"The first problematic category in the dataset is '{results['ex5_age_young']}'; the second is '{results['ex5_age_old']}.'\"\n",
                ")"
            ]
        },
        {
            "cell_type": "markdown",
            "metadata": {},
            "source": [
                "### Exercise 6\n",
                "\n",
                "In order to convert `age` into a numeric variable, we need to replace those problematic entries with values that `pandas` can later convert into numbers. Pick appropriate substitutions for the existing values and replace the current values. \n",
                "\n",
                "**Hint 1:** Categorical variables act like strings, so you might want to use string methods! \n",
                "\n",
                "**Hint 2:** Remember that characters like parentheses, pluses, asterisks, etc. are special in Python strings, and you have to escape them if you want them to be interpreted literally!\n",
                "\n",
                "**Hint 3:** Because the US Census has been conducted regularly for hundreds of years but exactly how the census has been conducted have occasionally changed, variables are sometimes coded in a way that might be interpreted in different ways for different census years. For example, hypothetically, one might write `90 (90+ in 1980 and 1990)` if the Censuses conducted in 1980 and 1990 used to top-code age at 90 (any values *over* 90 were just coded as 90), but more recent Censuses no longer top-coded age and recorded ages over 90 as the respondents actual age."
            ]
        },
        {
            "cell_type": "code",
            "execution_count": 7,
            "metadata": {},
            "outputs": [],
            "source": [
                "acs_data[\"age\"] = acs_data[\"age\"].cat.add_categories([\"0\"])\n",
                "acs_data.loc[acs_data[\"age\"] == results[\"ex5_age_young\"], \"age\"] = \"0\"\n",
                "\n",
                "acs_data[\"age\"] = acs_data[\"age\"].cat.add_categories([\"90\"])\n",
                "acs_data.loc[acs_data[\"age\"] == results[\"ex5_age_old\"], \"age\"] = \"90\""
            ]
        },
        {
            "cell_type": "code",
            "execution_count": 8,
            "metadata": {},
            "outputs": [],
            "source": [
                "to_drop = acs_data[\"age\"].isin([results[\"ex5_age_old\"], results[\"ex5_age_young\"]])\n",
                "\n",
                "acs_data.drop(acs_data[to_drop].index, inplace=True)\n",
                "\n",
                "acs_data[\"age\"] = acs_data[\"age\"].cat.remove_unused_categories()"
            ]
        },
        {
            "cell_type": "markdown",
            "metadata": {},
            "source": [
                "### Exercise 7\n",
                "\n",
                "Now convert age from a categorical to numeric. Calculate the average age amoung this group, and store it in `\"ex7_avg_age\"`."
            ]
        },
        {
            "cell_type": "code",
            "execution_count": 9,
            "metadata": {},
            "outputs": [
                {
                    "data": {
                        "application/vnd.microsoft.datawrangler.viewer.v0+json": {
                            "columns": [
                                {
                                    "name": "index",
                                    "rawType": "int64",
                                    "type": "integer"
                                },
                                {
                                    "name": "age",
                                    "rawType": "category",
                                    "type": "unknown"
                                }
                            ],
                            "ref": "21e2b008-7643-43d7-8985-ee58745a2e64",
                            "rows": [],
                            "shape": {
                                "columns": 1,
                                "rows": 0
                            }
                        },
                        "text/plain": [
                            "Series([], Name: age, dtype: category\n",
                            "Categories (97, object): ['1' < '2' < '3' < '4' ... '95' < '96' < '0' < '90'])"
                        ]
                    },
                    "execution_count": 9,
                    "metadata": {},
                    "output_type": "execute_result"
                }
            ],
            "source": [
                "acs_data.loc[~acs_data[\"age\"].str.isnumeric(), \"age\"]"
            ]
        },
        {
            "cell_type": "code",
            "execution_count": 10,
            "metadata": {},
            "outputs": [],
            "source": [
                "acs_data[\"age\"] = acs_data[\"age\"].astype(\"float\")"
            ]
        },
        {
            "cell_type": "code",
            "execution_count": 11,
            "metadata": {},
            "outputs": [
                {
                    "name": "stdout",
                    "output_type": "stream",
                    "text": [
                        "The average age in the converted dataset is 41.30.\n"
                    ]
                }
            ],
            "source": [
                "results[\"ex7_avg_age\"] = acs_data[\"age\"].mean()\n",
                "\n",
                "print(f\"The average age in the converted dataset is {results['ex7_avg_age']:.2f}.\")"
            ]
        },
        {
            "cell_type": "markdown",
            "metadata": {},
            "source": [
                "### Exercise 8\n",
                "\n",
                "Let's now filter out anyone in our data whose age is less than 18. Note that before made `age` a numeric variable, we couldn't do this! Again, calculate the average age and this time store it in `\"ex8_avg_age\"`. \n",
                "\n",
                "Use this sample of people 18 and over for all subsequent exercises."
            ]
        },
        {
            "cell_type": "code",
            "execution_count": 12,
            "metadata": {},
            "outputs": [
                {
                    "name": "stdout",
                    "output_type": "stream",
                    "text": [
                        "The average age is 49.76\n"
                    ]
                }
            ],
            "source": [
                "acs_subset = acs_data[acs_data[\"age\"] >= 18]\n",
                "\n",
                "ex8_avg_age = acs_subset[\"age\"].mean()\n",
                "results[\"ex8_avg_age\"] = ex8_avg_age\n",
                "print(f\"The average age is {ex8_avg_age:.2f}\")"
            ]
        },
        {
            "cell_type": "markdown",
            "metadata": {},
            "source": [
                "### Exercise 9\n",
                "\n",
                "Create an indicator variable for whether each person has *at least* a college Bachelor's degree called `college_degree`. Use this variable to calculate the number of people in the dataset with a college degree. You may assume that to get a college degree you need to complete at least 4 years of college. Save the result as `\"ex9_num_college\"`."
            ]
        },
        {
            "cell_type": "code",
            "execution_count": 13,
            "metadata": {},
            "outputs": [
                {
                    "data": {
                        "application/vnd.microsoft.datawrangler.viewer.v0+json": {
                            "columns": [
                                {
                                    "name": "educ",
                                    "rawType": "category",
                                    "type": "unknown"
                                },
                                {
                                    "name": "count",
                                    "rawType": "int64",
                                    "type": "integer"
                                }
                            ],
                            "ref": "ae3843c0-de72-4b15-8a7b-0678fddb7a5b",
                            "rows": [
                                [
                                    "grade 12",
                                    "92576"
                                ],
                                [
                                    "4 years of college",
                                    "47212"
                                ],
                                [
                                    "1 year of college",
                                    "38746"
                                ],
                                [
                                    "5+ years of college",
                                    "29801"
                                ],
                                [
                                    "2 years of college",
                                    "20753"
                                ],
                                [
                                    "grade 5, 6, 7, or 8",
                                    "5975"
                                ],
                                [
                                    "grade 11",
                                    "5816"
                                ],
                                [
                                    "grade 10",
                                    "4078"
                                ],
                                [
                                    "n/a or no schooling",
                                    "3644"
                                ],
                                [
                                    "grade 9",
                                    "3145"
                                ],
                                [
                                    "nursery school to grade 4",
                                    "1288"
                                ]
                            ],
                            "shape": {
                                "columns": 1,
                                "rows": 11
                            }
                        },
                        "text/plain": [
                            "educ\n",
                            "grade 12                     92576\n",
                            "4 years of college           47212\n",
                            "1 year of college            38746\n",
                            "5+ years of college          29801\n",
                            "2 years of college           20753\n",
                            "grade 5, 6, 7, or 8           5975\n",
                            "grade 11                      5816\n",
                            "grade 10                      4078\n",
                            "n/a or no schooling           3644\n",
                            "grade 9                       3145\n",
                            "nursery school to grade 4     1288\n",
                            "Name: count, dtype: int64"
                        ]
                    },
                    "execution_count": 13,
                    "metadata": {},
                    "output_type": "execute_result"
                }
            ],
            "source": [
                "acs_subset[\"educ\"].value_counts()"
            ]
        },
        {
            "cell_type": "code",
            "execution_count": 14,
            "metadata": {},
            "outputs": [
                {
                    "data": {
                        "application/vnd.microsoft.datawrangler.viewer.v0+json": {
                            "columns": [
                                {
                                    "name": "index",
                                    "rawType": "int64",
                                    "type": "integer"
                                },
                                {
                                    "name": "age",
                                    "rawType": "float64",
                                    "type": "float"
                                },
                                {
                                    "name": "sex",
                                    "rawType": "category",
                                    "type": "unknown"
                                },
                                {
                                    "name": "educ",
                                    "rawType": "category",
                                    "type": "unknown"
                                },
                                {
                                    "name": "inctot",
                                    "rawType": "float64",
                                    "type": "float"
                                },
                                {
                                    "name": "college_degree",
                                    "rawType": "int64",
                                    "type": "integer"
                                }
                            ],
                            "ref": "78c38580-d2f9-4f4e-ac64-d01d98029b17",
                            "rows": [
                                [
                                    "314541",
                                    "26.0",
                                    "male",
                                    "4 years of college",
                                    "95000.0",
                                    "1"
                                ],
                                [
                                    "84840",
                                    "59.0",
                                    "female",
                                    "grade 12",
                                    "42600.0",
                                    "0"
                                ],
                                [
                                    "192993",
                                    "46.0",
                                    "female",
                                    "4 years of college",
                                    "0.0",
                                    "1"
                                ],
                                [
                                    "75428",
                                    "93.0",
                                    "male",
                                    "grade 5, 6, 7, or 8",
                                    "27200.0",
                                    "0"
                                ],
                                [
                                    "191329",
                                    "53.0",
                                    "male",
                                    "1 year of college",
                                    "29800.0",
                                    "0"
                                ],
                                [
                                    "313883",
                                    "66.0",
                                    "male",
                                    "1 year of college",
                                    "40900.0",
                                    "0"
                                ],
                                [
                                    "257870",
                                    "45.0",
                                    "male",
                                    "2 years of college",
                                    "91000.0",
                                    "0"
                                ],
                                [
                                    "61746",
                                    "50.0",
                                    "female",
                                    "2 years of college",
                                    "94000.0",
                                    "0"
                                ],
                                [
                                    "170410",
                                    "43.0",
                                    "male",
                                    "4 years of college",
                                    "44500.0",
                                    "1"
                                ],
                                [
                                    "51494",
                                    "64.0",
                                    "male",
                                    "5+ years of college",
                                    "8000.0",
                                    "1"
                                ]
                            ],
                            "shape": {
                                "columns": 5,
                                "rows": 10
                            }
                        },
                        "text/html": [
                            "<div>\n",
                            "<style scoped>\n",
                            "    .dataframe tbody tr th:only-of-type {\n",
                            "        vertical-align: middle;\n",
                            "    }\n",
                            "\n",
                            "    .dataframe tbody tr th {\n",
                            "        vertical-align: top;\n",
                            "    }\n",
                            "\n",
                            "    .dataframe thead th {\n",
                            "        text-align: right;\n",
                            "    }\n",
                            "</style>\n",
                            "<table border=\"1\" class=\"dataframe\">\n",
                            "  <thead>\n",
                            "    <tr style=\"text-align: right;\">\n",
                            "      <th></th>\n",
                            "      <th>age</th>\n",
                            "      <th>sex</th>\n",
                            "      <th>educ</th>\n",
                            "      <th>inctot</th>\n",
                            "      <th>college_degree</th>\n",
                            "    </tr>\n",
                            "  </thead>\n",
                            "  <tbody>\n",
                            "    <tr>\n",
                            "      <th>314541</th>\n",
                            "      <td>26.0</td>\n",
                            "      <td>male</td>\n",
                            "      <td>4 years of college</td>\n",
                            "      <td>95000.0</td>\n",
                            "      <td>1</td>\n",
                            "    </tr>\n",
                            "    <tr>\n",
                            "      <th>84840</th>\n",
                            "      <td>59.0</td>\n",
                            "      <td>female</td>\n",
                            "      <td>grade 12</td>\n",
                            "      <td>42600.0</td>\n",
                            "      <td>0</td>\n",
                            "    </tr>\n",
                            "    <tr>\n",
                            "      <th>192993</th>\n",
                            "      <td>46.0</td>\n",
                            "      <td>female</td>\n",
                            "      <td>4 years of college</td>\n",
                            "      <td>0.0</td>\n",
                            "      <td>1</td>\n",
                            "    </tr>\n",
                            "    <tr>\n",
                            "      <th>75428</th>\n",
                            "      <td>93.0</td>\n",
                            "      <td>male</td>\n",
                            "      <td>grade 5, 6, 7, or 8</td>\n",
                            "      <td>27200.0</td>\n",
                            "      <td>0</td>\n",
                            "    </tr>\n",
                            "    <tr>\n",
                            "      <th>191329</th>\n",
                            "      <td>53.0</td>\n",
                            "      <td>male</td>\n",
                            "      <td>1 year of college</td>\n",
                            "      <td>29800.0</td>\n",
                            "      <td>0</td>\n",
                            "    </tr>\n",
                            "    <tr>\n",
                            "      <th>313883</th>\n",
                            "      <td>66.0</td>\n",
                            "      <td>male</td>\n",
                            "      <td>1 year of college</td>\n",
                            "      <td>40900.0</td>\n",
                            "      <td>0</td>\n",
                            "    </tr>\n",
                            "    <tr>\n",
                            "      <th>257870</th>\n",
                            "      <td>45.0</td>\n",
                            "      <td>male</td>\n",
                            "      <td>2 years of college</td>\n",
                            "      <td>91000.0</td>\n",
                            "      <td>0</td>\n",
                            "    </tr>\n",
                            "    <tr>\n",
                            "      <th>61746</th>\n",
                            "      <td>50.0</td>\n",
                            "      <td>female</td>\n",
                            "      <td>2 years of college</td>\n",
                            "      <td>94000.0</td>\n",
                            "      <td>0</td>\n",
                            "    </tr>\n",
                            "    <tr>\n",
                            "      <th>170410</th>\n",
                            "      <td>43.0</td>\n",
                            "      <td>male</td>\n",
                            "      <td>4 years of college</td>\n",
                            "      <td>44500.0</td>\n",
                            "      <td>1</td>\n",
                            "    </tr>\n",
                            "    <tr>\n",
                            "      <th>51494</th>\n",
                            "      <td>64.0</td>\n",
                            "      <td>male</td>\n",
                            "      <td>5+ years of college</td>\n",
                            "      <td>8000.0</td>\n",
                            "      <td>1</td>\n",
                            "    </tr>\n",
                            "  </tbody>\n",
                            "</table>\n",
                            "</div>"
                        ],
                        "text/plain": [
                            "         age     sex                 educ   inctot  college_degree\n",
                            "314541  26.0    male   4 years of college  95000.0               1\n",
                            "84840   59.0  female             grade 12  42600.0               0\n",
                            "192993  46.0  female   4 years of college      0.0               1\n",
                            "75428   93.0    male  grade 5, 6, 7, or 8  27200.0               0\n",
                            "191329  53.0    male    1 year of college  29800.0               0\n",
                            "313883  66.0    male    1 year of college  40900.0               0\n",
                            "257870  45.0    male   2 years of college  91000.0               0\n",
                            "61746   50.0  female   2 years of college  94000.0               0\n",
                            "170410  43.0    male   4 years of college  44500.0               1\n",
                            "51494   64.0    male  5+ years of college   8000.0               1"
                        ]
                    },
                    "execution_count": 14,
                    "metadata": {},
                    "output_type": "execute_result"
                }
            ],
            "source": [
                "acs_subset[\"college_degree\"] = (\n",
                "    acs_subset[\"educ\"].isin([\"4 years of college\", \"5+ years of college\"]).astype(int)\n",
                ")\n",
                "acs_subset.sample(10)"
            ]
        },
        {
            "cell_type": "code",
            "execution_count": 15,
            "metadata": {},
            "outputs": [
                {
                    "name": "stdout",
                    "output_type": "stream",
                    "text": [
                        "The number of people with a college degree are 77013.\n"
                    ]
                }
            ],
            "source": [
                "ex9_num_college = acs_subset[\"college_degree\"].sum()\n",
                "results[\"ex9_num_college\"] = ex9_num_college\n",
                "print(f\"The number of people with a college degree are {ex9_num_college}.\")"
            ]
        },
        {
            "cell_type": "markdown",
            "metadata": {},
            "source": [
                "### Exercise 10\n",
                "\n",
                "Let's examine how the educational gender gap. Use `pd.crosstab` to create a cross-tabulation of `sex` and `college_degree`. `pd.crosstab` will give you the number of people who have each combination of `sex` and `college_degree` (so in this case, it will give us a 2x2 table with Male and Female as rows, and `college_degree` True and False as columns, or vice versa. "
            ]
        },
        {
            "cell_type": "code",
            "execution_count": 16,
            "metadata": {},
            "outputs": [
                {
                    "data": {
                        "application/vnd.microsoft.datawrangler.viewer.v0+json": {
                            "columns": [
                                {
                                    "name": "sex",
                                    "rawType": "category",
                                    "type": "unknown"
                                },
                                {
                                    "name": "0",
                                    "rawType": "int64",
                                    "type": "integer"
                                },
                                {
                                    "name": "1",
                                    "rawType": "int64",
                                    "type": "integer"
                                }
                            ],
                            "ref": "adf2768a-ed1c-4470-9f6c-8c6119bc786f",
                            "rows": [
                                [
                                    "male",
                                    "85821",
                                    "36181"
                                ],
                                [
                                    "female",
                                    "90200",
                                    "40832"
                                ]
                            ],
                            "shape": {
                                "columns": 2,
                                "rows": 2
                            }
                        },
                        "text/html": [
                            "<div>\n",
                            "<style scoped>\n",
                            "    .dataframe tbody tr th:only-of-type {\n",
                            "        vertical-align: middle;\n",
                            "    }\n",
                            "\n",
                            "    .dataframe tbody tr th {\n",
                            "        vertical-align: top;\n",
                            "    }\n",
                            "\n",
                            "    .dataframe thead th {\n",
                            "        text-align: right;\n",
                            "    }\n",
                            "</style>\n",
                            "<table border=\"1\" class=\"dataframe\">\n",
                            "  <thead>\n",
                            "    <tr style=\"text-align: right;\">\n",
                            "      <th>college_degree</th>\n",
                            "      <th>0</th>\n",
                            "      <th>1</th>\n",
                            "    </tr>\n",
                            "    <tr>\n",
                            "      <th>sex</th>\n",
                            "      <th></th>\n",
                            "      <th></th>\n",
                            "    </tr>\n",
                            "  </thead>\n",
                            "  <tbody>\n",
                            "    <tr>\n",
                            "      <th>male</th>\n",
                            "      <td>85821</td>\n",
                            "      <td>36181</td>\n",
                            "    </tr>\n",
                            "    <tr>\n",
                            "      <th>female</th>\n",
                            "      <td>90200</td>\n",
                            "      <td>40832</td>\n",
                            "    </tr>\n",
                            "  </tbody>\n",
                            "</table>\n",
                            "</div>"
                        ],
                        "text/plain": [
                            "college_degree      0      1\n",
                            "sex                         \n",
                            "male            85821  36181\n",
                            "female          90200  40832"
                        ]
                    },
                    "execution_count": 16,
                    "metadata": {},
                    "output_type": "execute_result"
                }
            ],
            "source": [
                "pd.crosstab(acs_subset[\"sex\"], acs_subset[\"college_degree\"])"
            ]
        },
        {
            "cell_type": "markdown",
            "metadata": {},
            "source": [
                "### Exercise 11\n",
                "\n",
                "Counts are kind of hard to interpret. `pd.crosstab` can also normalize values to give percentages. Look at the `pd.crosstab` help file to figure out how to normalize the values in the table. Normalize them so that you get the share of men with and without college degree, and the share of women with and without college degrees.\n",
                "\n",
                "Store the share (between 0 and 1) of men with college degrees in `\"ex11_share_male_w_degrees\"`, and the share of women with degrees in `\"ex11_share_female_w_degrees\"`."
            ]
        },
        {
            "cell_type": "code",
            "execution_count": 17,
            "metadata": {},
            "outputs": [
                {
                    "data": {
                        "application/vnd.microsoft.datawrangler.viewer.v0+json": {
                            "columns": [
                                {
                                    "name": "sex",
                                    "rawType": "category",
                                    "type": "unknown"
                                },
                                {
                                    "name": "0",
                                    "rawType": "float64",
                                    "type": "float"
                                },
                                {
                                    "name": "1",
                                    "rawType": "float64",
                                    "type": "float"
                                }
                            ],
                            "ref": "4a4abb8b-9bd5-4520-97d5-c2e2f53666d5",
                            "rows": [
                                [
                                    "male",
                                    "0.7034392878805266",
                                    "0.29656071211947344"
                                ],
                                [
                                    "female",
                                    "0.6883814640698456",
                                    "0.3116185359301545"
                                ]
                            ],
                            "shape": {
                                "columns": 2,
                                "rows": 2
                            }
                        },
                        "text/html": [
                            "<div>\n",
                            "<style scoped>\n",
                            "    .dataframe tbody tr th:only-of-type {\n",
                            "        vertical-align: middle;\n",
                            "    }\n",
                            "\n",
                            "    .dataframe tbody tr th {\n",
                            "        vertical-align: top;\n",
                            "    }\n",
                            "\n",
                            "    .dataframe thead th {\n",
                            "        text-align: right;\n",
                            "    }\n",
                            "</style>\n",
                            "<table border=\"1\" class=\"dataframe\">\n",
                            "  <thead>\n",
                            "    <tr style=\"text-align: right;\">\n",
                            "      <th>college_degree</th>\n",
                            "      <th>0</th>\n",
                            "      <th>1</th>\n",
                            "    </tr>\n",
                            "    <tr>\n",
                            "      <th>sex</th>\n",
                            "      <th></th>\n",
                            "      <th></th>\n",
                            "    </tr>\n",
                            "  </thead>\n",
                            "  <tbody>\n",
                            "    <tr>\n",
                            "      <th>male</th>\n",
                            "      <td>0.703439</td>\n",
                            "      <td>0.296561</td>\n",
                            "    </tr>\n",
                            "    <tr>\n",
                            "      <th>female</th>\n",
                            "      <td>0.688381</td>\n",
                            "      <td>0.311619</td>\n",
                            "    </tr>\n",
                            "  </tbody>\n",
                            "</table>\n",
                            "</div>"
                        ],
                        "text/plain": [
                            "college_degree         0         1\n",
                            "sex                               \n",
                            "male            0.703439  0.296561\n",
                            "female          0.688381  0.311619"
                        ]
                    },
                    "execution_count": 17,
                    "metadata": {},
                    "output_type": "execute_result"
                }
            ],
            "source": [
                "crosstab = pd.crosstab(\n",
                "    acs_subset[\"sex\"], acs_subset[\"college_degree\"], normalize=\"index\"\n",
                ")\n",
                "crosstab"
            ]
        },
        {
            "cell_type": "code",
            "execution_count": 18,
            "metadata": {},
            "outputs": [
                {
                    "name": "stdout",
                    "output_type": "stream",
                    "text": [
                        "The share of men with college degrees is 29.66%\n",
                        "The share of women with college degrees is 31.16%\n"
                    ]
                }
            ],
            "source": [
                "ex11_share_male_w_degress = crosstab.loc[\"male\", 1]\n",
                "print(f\"The share of men with college degrees is {ex11_share_male_w_degress:.2%}\")\n",
                "\n",
                "ex11_share_female_w_degrees = crosstab.loc[\"female\", 1]\n",
                "print(f\"The share of women with college degrees is {ex11_share_female_w_degrees:.2%}\")\n",
                "\n",
                "results[\"ex11_share_male_w_degrees\"] = ex11_share_male_w_degress\n",
                "results[\"ex11_share_female_w_degrees\"] = ex11_share_female_w_degrees"
            ]
        },
        {
            "cell_type": "markdown",
            "metadata": {},
            "source": [
                "### Exercise 12\n",
                "\n",
                "Now, let's recreate that table for people who are 40 and over and people under 40. Over time, what does this suggest about the absolute difference in the share of men and women earning college degrees? Has it gotten larger, stayed the same, or gotten smaller? Store your answer (either `\"the absolute difference has increased\"` or `\"the absolute difference has decreased\"`) in `\"ex12_comparing\"`."
            ]
        },
        {
            "cell_type": "code",
            "execution_count": 19,
            "metadata": {},
            "outputs": [
                {
                    "data": {
                        "application/vnd.microsoft.datawrangler.viewer.v0+json": {
                            "columns": [
                                {
                                    "name": "sex",
                                    "rawType": "category",
                                    "type": "unknown"
                                },
                                {
                                    "name": "0",
                                    "rawType": "float64",
                                    "type": "float"
                                },
                                {
                                    "name": "1",
                                    "rawType": "float64",
                                    "type": "float"
                                }
                            ],
                            "ref": "dcd22e4b-1033-45ae-a663-48e0f7d9b48d",
                            "rows": [
                                [
                                    "male",
                                    "0.682123376541577",
                                    "0.3178766234584231"
                                ],
                                [
                                    "female",
                                    "0.6991435291999145",
                                    "0.30085647080008554"
                                ]
                            ],
                            "shape": {
                                "columns": 2,
                                "rows": 2
                            }
                        },
                        "text/html": [
                            "<div>\n",
                            "<style scoped>\n",
                            "    .dataframe tbody tr th:only-of-type {\n",
                            "        vertical-align: middle;\n",
                            "    }\n",
                            "\n",
                            "    .dataframe tbody tr th {\n",
                            "        vertical-align: top;\n",
                            "    }\n",
                            "\n",
                            "    .dataframe thead th {\n",
                            "        text-align: right;\n",
                            "    }\n",
                            "</style>\n",
                            "<table border=\"1\" class=\"dataframe\">\n",
                            "  <thead>\n",
                            "    <tr style=\"text-align: right;\">\n",
                            "      <th>college_degree</th>\n",
                            "      <th>0</th>\n",
                            "      <th>1</th>\n",
                            "    </tr>\n",
                            "    <tr>\n",
                            "      <th>sex</th>\n",
                            "      <th></th>\n",
                            "      <th></th>\n",
                            "    </tr>\n",
                            "  </thead>\n",
                            "  <tbody>\n",
                            "    <tr>\n",
                            "      <th>male</th>\n",
                            "      <td>0.682123</td>\n",
                            "      <td>0.317877</td>\n",
                            "    </tr>\n",
                            "    <tr>\n",
                            "      <th>female</th>\n",
                            "      <td>0.699144</td>\n",
                            "      <td>0.300856</td>\n",
                            "    </tr>\n",
                            "  </tbody>\n",
                            "</table>\n",
                            "</div>"
                        ],
                        "text/plain": [
                            "college_degree         0         1\n",
                            "sex                               \n",
                            "male            0.682123  0.317877\n",
                            "female          0.699144  0.300856"
                        ]
                    },
                    "execution_count": 19,
                    "metadata": {},
                    "output_type": "execute_result"
                }
            ],
            "source": [
                "acs_above_40 = acs_subset[acs_subset[\"age\"] >= 40]\n",
                "\n",
                "above_40_crosstab = pd.crosstab(\n",
                "    acs_above_40[\"sex\"], acs_above_40[\"college_degree\"], normalize=\"index\"\n",
                ")\n",
                "\n",
                "above_40_crosstab"
            ]
        },
        {
            "cell_type": "code",
            "execution_count": 20,
            "metadata": {},
            "outputs": [
                {
                    "data": {
                        "application/vnd.microsoft.datawrangler.viewer.v0+json": {
                            "columns": [
                                {
                                    "name": "sex",
                                    "rawType": "category",
                                    "type": "unknown"
                                },
                                {
                                    "name": "0",
                                    "rawType": "float64",
                                    "type": "float"
                                },
                                {
                                    "name": "1",
                                    "rawType": "float64",
                                    "type": "float"
                                }
                            ],
                            "ref": "bf00edc5-7755-4c7c-96f7-ee827a98a4bc",
                            "rows": [
                                [
                                    "male",
                                    "0.7431427297684131",
                                    "0.25685727023158683"
                                ],
                                [
                                    "female",
                                    "0.6657104246188862",
                                    "0.3342895753811138"
                                ]
                            ],
                            "shape": {
                                "columns": 2,
                                "rows": 2
                            }
                        },
                        "text/html": [
                            "<div>\n",
                            "<style scoped>\n",
                            "    .dataframe tbody tr th:only-of-type {\n",
                            "        vertical-align: middle;\n",
                            "    }\n",
                            "\n",
                            "    .dataframe tbody tr th {\n",
                            "        vertical-align: top;\n",
                            "    }\n",
                            "\n",
                            "    .dataframe thead th {\n",
                            "        text-align: right;\n",
                            "    }\n",
                            "</style>\n",
                            "<table border=\"1\" class=\"dataframe\">\n",
                            "  <thead>\n",
                            "    <tr style=\"text-align: right;\">\n",
                            "      <th>college_degree</th>\n",
                            "      <th>0</th>\n",
                            "      <th>1</th>\n",
                            "    </tr>\n",
                            "    <tr>\n",
                            "      <th>sex</th>\n",
                            "      <th></th>\n",
                            "      <th></th>\n",
                            "    </tr>\n",
                            "  </thead>\n",
                            "  <tbody>\n",
                            "    <tr>\n",
                            "      <th>male</th>\n",
                            "      <td>0.743143</td>\n",
                            "      <td>0.256857</td>\n",
                            "    </tr>\n",
                            "    <tr>\n",
                            "      <th>female</th>\n",
                            "      <td>0.665710</td>\n",
                            "      <td>0.334290</td>\n",
                            "    </tr>\n",
                            "  </tbody>\n",
                            "</table>\n",
                            "</div>"
                        ],
                        "text/plain": [
                            "college_degree         0         1\n",
                            "sex                               \n",
                            "male            0.743143  0.256857\n",
                            "female          0.665710  0.334290"
                        ]
                    },
                    "execution_count": 20,
                    "metadata": {},
                    "output_type": "execute_result"
                }
            ],
            "source": [
                "acs_under_40 = acs_subset[acs_subset[\"age\"] < 40]\n",
                "\n",
                "under_40_crosstab = pd.crosstab(\n",
                "    acs_under_40[\"sex\"], acs_under_40[\"college_degree\"], normalize=\"index\"\n",
                ")\n",
                "\n",
                "under_40_crosstab"
            ]
        },
        {
            "cell_type": "code",
            "execution_count": 21,
            "metadata": {},
            "outputs": [
                {
                    "name": "stdout",
                    "output_type": "stream",
                    "text": [
                        "The absolute difference for men attending college across the age groups is -0.06 and for women is 0.03.\n"
                    ]
                }
            ],
            "source": [
                "over_40_men_college = above_40_crosstab.loc[\"male\", 1]\n",
                "over_40_women_college = above_40_crosstab.loc[\"female\", 1]\n",
                "\n",
                "under_40_men_college = under_40_crosstab.loc[\"male\", 1]\n",
                "under_40_women_college = under_40_crosstab.loc[\"female\", 1]\n",
                "\n",
                "abs_difference_men = under_40_men_college - over_40_men_college  # type: ignore\n",
                "abs_difference_women = under_40_women_college - over_40_women_college  # type: ignore\n",
                "\n",
                "print(\n",
                "    f\"The absolute difference for men attending college across the age groups is {abs_difference_men:.2f} and for women is {abs_difference_women:.2f}.\"\n",
                ")"
            ]
        },
        {
            "cell_type": "code",
            "execution_count": 22,
            "metadata": {},
            "outputs": [],
            "source": [
                "results[\"ex12_comparing\"] = \"the absolute difference has increased\""
            ]
        },
        {
            "cell_type": "code",
            "execution_count": 24,
            "metadata": {},
            "outputs": [
                {
                    "data": {
                        "text/plain": [
                            "{'ex5_age_young': 'less than 1 year old',\n",
                            " 'ex5_age_old': '90 (90+ in 1980 and 1990)',\n",
                            " 'ex7_avg_age': np.float64(41.30384885455982),\n",
                            " 'ex8_avg_age': np.float64(49.75769659413359),\n",
                            " 'ex9_num_college': np.int64(77013),\n",
                            " 'ex11_share_male_w_degrees': np.float64(0.29656071211947344),\n",
                            " 'ex11_share_female_w_degrees': np.float64(0.3116185359301545),\n",
                            " 'ex12_comparing': 'the absolute difference has increased'}"
                        ]
                    },
                    "execution_count": 24,
                    "metadata": {},
                    "output_type": "execute_result"
                }
            ],
            "source": [
                "results"
            ]
        },
        {
            "cell_type": "markdown",
            "metadata": {},
            "source": [
                "### Exercise 13\n",
                "\n",
                "In words, what is causing the change noted in Exercise 12 (i.e., looking at the tables above, tell me a story about Men and Women's College attainment)."
            ]
        },
        {
            "cell_type": "markdown",
            "metadata": {},
            "source": [
                "**The increase of the absolute difference in the share of men and women earning college degrees over time is due to women's educational attainment has increased relative to men (they've gone from being behind to being ahead).**"
            ]
        },
        {
            "cell_type": "code",
            "execution_count": 23,
            "metadata": {},
            "outputs": [],
            "source": [
                "assert set(results.keys()) == {\n",
                "    \"ex5_age_young\",\n",
                "    \"ex5_age_old\",\n",
                "    \"ex7_avg_age\",\n",
                "    \"ex8_avg_age\",\n",
                "    \"ex9_num_college\",\n",
                "    \"ex11_share_male_w_degrees\",\n",
                "    \"ex11_share_female_w_degrees\",\n",
                "    \"ex12_comparing\",\n",
                "}"
            ]
        },
        {
            "cell_type": "markdown",
            "metadata": {},
            "source": [
                "## Want More Practice?\n",
                "\n",
                "Calculate the educational racial gap in the United States for White Americans, Black Americans, Hispanic Americans, and other groups. \n",
                "\n",
                "Note that to do these calculations, you'll have to deal with the fact that unlike most Americans, the American Census Bureau treats \"Hispanic\" not as a racial category, but a linguistic one. As a result, the racial category \"White\" in `race` actually includes most Hispanic Americans. For this analysis, we wish to work with the mutually exclusive categories of \"White, non-Hispanic\", \"White, Hispanic\", \"Black (Hispanic or non-Hispanic)\", and a category for everyone else. "
            ]
        }
    ],
    "metadata": {
        "kernelspec": {
            "display_name": "base",
            "language": "python",
            "name": "python3"
        },
        "language_info": {
            "codemirror_mode": {
                "name": "ipython",
                "version": 3
            },
            "file_extension": ".py",
            "mimetype": "text/x-python",
            "name": "python",
            "nbconvert_exporter": "python",
            "pygments_lexer": "ipython3",
            "version": "3.12.11"
        }
    },
    "nbformat": 4,
    "nbformat_minor": 4
}
